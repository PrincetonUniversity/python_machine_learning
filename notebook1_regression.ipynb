{
 "cells": [
  {
   "cell_type": "markdown",
   "metadata": {
    "colab_type": "text",
    "id": "view-in-github"
   },
   "source": [
    "<a href=\"https://colab.research.google.com/github/PrincetonUniversity/python_machine_learning/blob/main/notebook1_regression.ipynb\" target=\"_parent\"><img src=\"https://colab.research.google.com/assets/colab-badge.svg\" alt=\"Open In Colab\"/></a>"
   ]
  },
  {
   "cell_type": "code",
   "execution_count": null,
   "metadata": {
    "id": "8kQDn1UiBruU"
   },
   "outputs": [],
   "source": [
    "import numpy as np\n",
    "import matplotlib.pyplot as plt\n",
    "\n",
    "rng = np.random.RandomState(1)\n",
    "qualitative_colors = ['#1b9e77','#d95f02','#7570b3','#e7298a']"
   ]
  },
  {
   "cell_type": "markdown",
   "metadata": {
    "id": "iooSaM6pB_-8"
   },
   "source": [
    "# *Regression*"
   ]
  },
  {
   "cell_type": "markdown",
   "metadata": {
    "id": "MxrHPKbNCCye"
   },
   "source": [
    "## Load Diabetes Data Set"
   ]
  },
  {
   "cell_type": "code",
   "execution_count": null,
   "metadata": {
    "id": "q-0epITjCzCd"
   },
   "outputs": [],
   "source": [
    "from sklearn.datasets import load_diabetes"
   ]
  },
  {
   "cell_type": "code",
   "execution_count": null,
   "metadata": {
    "id": "-CWjYrWfCA0H"
   },
   "outputs": [],
   "source": [
    "# Load the diabetes dataset\n",
    "diabetes_bunch = load_diabetes()\n",
    "diabetes_X = diabetes_bunch.data\n",
    "diabetes_y = diabetes_bunch.target\n",
    "\n",
    "# Use only one feature\n",
    "diabetes_X = diabetes_X[:, np.newaxis, 2]\n",
    "\n",
    "# Split the data into training/testing sets\n",
    "diabetes_X_train = diabetes_X[:-20]\n",
    "diabetes_X_test = diabetes_X[-20:]\n",
    "\n",
    "# Split the targets into training/testing sets\n",
    "diabetes_y_train = diabetes_y[:-20]\n",
    "diabetes_y_test = diabetes_y[-20:]"
   ]
  },
  {
   "cell_type": "code",
   "execution_count": null,
   "metadata": {
    "id": "nKRhexEzCG6w"
   },
   "outputs": [],
   "source": [
    "print(diabetes_bunch.DESCR)"
   ]
  },
  {
   "cell_type": "code",
   "execution_count": null,
   "metadata": {
    "id": "mNDBg3HNDDjW"
   },
   "outputs": [],
   "source": [
    "fig, axs = plt.subplots(figsize=(4.,4.), nrows=1, ncols=1, facecolor='white', dpi=200)\n",
    "axs.scatter(diabetes_X_train, diabetes_y_train, color=qualitative_colors[0], s=10)\n",
    "axs.set_xlabel('BMI (scaled)')\n",
    "axs.set_ylabel('quantitative measure of diabetes progression')"
   ]
  },
  {
   "cell_type": "markdown",
   "metadata": {
    "id": "UNFC-ZWRDR9q"
   },
   "source": [
    "## Linear Regression\n",
    "\n"
   ]
  },
  {
   "cell_type": "code",
   "execution_count": null,
   "metadata": {
    "id": "6r70A_m_DYwJ"
   },
   "outputs": [],
   "source": [
    "from sklearn.linear_model import LinearRegression"
   ]
  },
  {
   "cell_type": "markdown",
   "metadata": {
    "id": "rQgraN16Eia4"
   },
   "source": [
    "### Create linear regression object"
   ]
  },
  {
   "cell_type": "code",
   "execution_count": null,
   "metadata": {
    "id": "jtaGHkvdDJAc"
   },
   "outputs": [],
   "source": [
    "regr = LinearRegression()"
   ]
  },
  {
   "cell_type": "markdown",
   "metadata": {
    "id": "KJu3LjnzEUUi"
   },
   "source": [
    "### Train the model using the training set\n",
    "\n"
   ]
  },
  {
   "cell_type": "code",
   "execution_count": null,
   "metadata": {
    "id": "Th8F6W21EYou"
   },
   "outputs": [],
   "source": [
    "regr.fit(diabetes_X_train, diabetes_y_train)"
   ]
  },
  {
   "cell_type": "markdown",
   "metadata": {
    "id": "fAMPvvSyEajY"
   },
   "source": [
    "### Output the best fit values"
   ]
  },
  {
   "cell_type": "code",
   "execution_count": null,
   "metadata": {
    "id": "Sg_p4wd6DWr2"
   },
   "outputs": [],
   "source": [
    "print(\"Intercept: \\n\", regr.intercept_)\n",
    "print(\"Coefficients: \\n\", regr.coef_)"
   ]
  },
  {
   "cell_type": "code",
   "execution_count": null,
   "metadata": {
    "id": "WeVQy3OuDhD9"
   },
   "outputs": [],
   "source": [
    "fig, axs = plt.subplots(figsize=(4.,4.), nrows=1, ncols=1, facecolor='white', dpi=200)\n",
    "axs.scatter(diabetes_X_train, diabetes_y_train, s=1, color=qualitative_colors[0])\n",
    "axs.plot(diabetes_X_train, regr.predict(diabetes_X_train), color=qualitative_colors[1], linewidth=2)\n",
    "axs.scatter(diabetes_X_train[:4], diabetes_y_train[:4], color=qualitative_colors[0])\n",
    "axs.vlines(diabetes_X_train[:4], regr.intercept_ + regr.coef_[0]*diabetes_X_train[:4], diabetes_y_train[:4], lw=2)\n",
    "axs.set_xlabel('BMI (scaled)')\n",
    "axs.set_ylabel('quantitative measure of diabetes progression')"
   ]
  },
  {
   "cell_type": "markdown",
   "metadata": {
    "id": "FPDkVyO9ENwx"
   },
   "source": [
    "### Make predictions using the test set"
   ]
  },
  {
   "cell_type": "code",
   "execution_count": null,
   "metadata": {
    "id": "lZ_rHBCiEIcS"
   },
   "outputs": [],
   "source": [
    "diabetes_y_pred_linear = regr.predict(diabetes_X_test)"
   ]
  },
  {
   "cell_type": "code",
   "execution_count": null,
   "metadata": {
    "id": "bmleiHYeDjeX"
   },
   "outputs": [],
   "source": [
    "fig, axs = plt.subplots(figsize=(4.,4.), nrows=2, ncols=1, facecolor='white', dpi=200, sharex=True)\n",
    "axs[0].scatter(diabetes_X_train, diabetes_y_train, s=1, color=qualitative_colors[0])\n",
    "axs[0].plot(diabetes_X_test, diabetes_y_pred_linear, color=qualitative_colors[1], linewidth=2)\n",
    "axs[0].scatter(diabetes_X_test, diabetes_y_test, color=qualitative_colors[2], s=8)\n",
    "axs[1].hlines(0, -0.1, 0.15, color=qualitative_colors[1], linewidth=2)\n",
    "axs[1].scatter(diabetes_X_test, diabetes_y_test-diabetes_y_pred_linear, color=qualitative_colors[2], s=10)\n",
    "axs[1].set_xlabel('BMI (scaled)')\n",
    "axs[0].set_ylabel('diabetes progression')\n",
    "axs[1].set_ylabel('truth - model')"
   ]
  },
  {
   "cell_type": "markdown",
   "metadata": {},
   "source": [
    "## Exercise"
   ]
  },
  {
   "cell_type": "markdown",
   "metadata": {},
   "source": [
    "Try applying the linear regression model to data on laptop size versus price:"
   ]
  },
  {
   "cell_type": "code",
   "execution_count": null,
   "metadata": {},
   "outputs": [],
   "source": [
    "import pandas as pd\n",
    "df = pd.read_csv(\"https://tigress-web.princeton.edu/~jdh4/laptop.csv\")\n",
    "plt.scatter(df[\"Inches\"], df[\"Price (Euro)\"])\n",
    "plt.xlabel(\"Size in Inches\")\n",
    "plt.ylabel(\"Price (Euro)\")"
   ]
  },
  {
   "cell_type": "code",
   "execution_count": null,
   "metadata": {},
   "outputs": [],
   "source": [
    "laptop_X = df[\"Inches\"].values.reshape(-1, 1)\n",
    "laptop_y = df[\"Price (Euro)\"].values"
   ]
  },
  {
   "cell_type": "code",
   "execution_count": null,
   "metadata": {},
   "outputs": [],
   "source": [
    "# begin exercse here (start by creating laptop_X_train, laptop_X_test, laptop_y_train, laptop_y_test)"
   ]
  },
  {
   "cell_type": "markdown",
   "metadata": {
    "id": "0DRNJS7REsWR"
   },
   "source": [
    "## Create Periodic Data Set (Optional)"
   ]
  },
  {
   "cell_type": "code",
   "execution_count": null,
   "metadata": {
    "id": "N5iPp7ftD277"
   },
   "outputs": [],
   "source": [
    "X = np.linspace(start=0, stop=2.*np.pi, num=1000).reshape(-1, 1)\n",
    "y_base = np.squeeze(np.sin(X))\n",
    "\n",
    "noise_std = 0.5\n",
    "y = y_base + rng.normal(loc=0.0, scale=noise_std, size=y_base.shape)\n",
    "\n",
    "training_indices = rng.choice(np.arange(y.size), size=10, replace=False)\n",
    "X_train, y_train = X[training_indices], y[training_indices]"
   ]
  },
  {
   "cell_type": "code",
   "execution_count": null,
   "metadata": {
    "id": "OkLFXZ_QEvnX"
   },
   "outputs": [],
   "source": [
    "fig, axs = plt.subplots(figsize=(4.,4.), nrows=1, ncols=1, facecolor='white', dpi=200, sharex=True)\n",
    "axs.plot(X, y_base, color=\"gray\", label = r\"$y = \\sin(x)$\")\n",
    "axs.errorbar(X_train, y_train, noise_std, linestyle=\"None\", color=qualitative_colors[0], marker=\".\", markersize=10)\n",
    "axs.legend()\n",
    "axs.set_ylabel('y')\n",
    "axs.set_xlabel('x')"
   ]
  },
  {
   "cell_type": "markdown",
   "metadata": {
    "id": "-e6oiDXFE6T_"
   },
   "source": [
    "## Gaussian Process Regression"
   ]
  },
  {
   "cell_type": "code",
   "execution_count": null,
   "metadata": {
    "id": "BxBud-32ON7d"
   },
   "outputs": [],
   "source": [
    "from sklearn.gaussian_process import GaussianProcessRegressor"
   ]
  },
  {
   "cell_type": "markdown",
   "metadata": {
    "id": "HlLRYIQBFCeY"
   },
   "source": [
    "### Create kernel object"
   ]
  },
  {
   "cell_type": "code",
   "execution_count": null,
   "metadata": {
    "id": "yObRp-0fFFIz"
   },
   "outputs": [],
   "source": [
    "from sklearn.gaussian_process.kernels import RBF\n",
    "kernel = 1 * RBF(length_scale=1.0, length_scale_bounds=(1e-4, 1e2))"
   ]
  },
  {
   "cell_type": "markdown",
   "metadata": {
    "id": "WKmiPKJtFFy1"
   },
   "source": [
    "### Create Gaussian Process object"
   ]
  },
  {
   "cell_type": "code",
   "execution_count": null,
   "metadata": {
    "id": "RVh5i9pWFIE5"
   },
   "outputs": [],
   "source": [
    "gaussian_process = GaussianProcessRegressor(kernel=kernel, alpha=noise_std**2, n_restarts_optimizer=9)"
   ]
  },
  {
   "cell_type": "markdown",
   "metadata": {
    "id": "w0OY13QIFTWk"
   },
   "source": [
    "### Train the model using the training set"
   ]
  },
  {
   "cell_type": "code",
   "execution_count": null,
   "metadata": {
    "id": "7Tq4bb3vFOrI"
   },
   "outputs": [],
   "source": [
    "gaussian_process.fit(X_train, y_train)"
   ]
  },
  {
   "cell_type": "markdown",
   "metadata": {
    "id": "sxF9DEiXFVw7"
   },
   "source": [
    "### Make predictions"
   ]
  },
  {
   "cell_type": "code",
   "execution_count": null,
   "metadata": {
    "id": "ga6RqmgSFVS8"
   },
   "outputs": [],
   "source": [
    "mean_prediction, std_prediction = gaussian_process.predict(X, return_std=True)"
   ]
  },
  {
   "cell_type": "code",
   "execution_count": null,
   "metadata": {
    "id": "HVODkoy1Fk6d"
   },
   "outputs": [],
   "source": [
    "fig, axs = plt.subplots(figsize=(4.,4.), nrows=2, ncols=1, facecolor='white', dpi=200, sharex=True)\n",
    "axs[0].plot(X, y_base, color=\"gray\")\n",
    "axs[0].errorbar(X_train, y_train, noise_std, linestyle=\"None\", color=qualitative_colors[0], marker=\".\", markersize=10)\n",
    "axs[0].plot(X, mean_prediction, ls='--')\n",
    "axs[0].fill_between(X.ravel(), mean_prediction - 1.96 * std_prediction, mean_prediction + 1.96 * std_prediction, alpha=0.25)\n",
    "axs[0].set_ylabel('y')\n",
    "axs[1].set_xlabel('x')\n",
    "axs[1].plot(X, np.zeros(X.shape), color=\"gray\")\n",
    "axs[1].plot(X, y_base-mean_prediction, ls='--')\n",
    "axs[1].fill_between(X.ravel(), (y_base-mean_prediction) - 1.96 * std_prediction, (y_base-mean_prediction) + 1.96 * std_prediction, alpha=0.25)\n",
    "axs[1].set_ylabel('truth - model')"
   ]
  }
 ],
 "metadata": {
  "colab": {
   "authorship_tag": "ABX9TyMc5ZycJHBcOd97fmUkAcgl",
   "collapsed_sections": [
    "iooSaM6pB_-8",
    "MxrHPKbNCCye",
    "UNFC-ZWRDR9q",
    "rQgraN16Eia4",
    "KJu3LjnzEUUi",
    "fAMPvvSyEajY",
    "FPDkVyO9ENwx",
    "0DRNJS7REsWR",
    "-e6oiDXFE6T_",
    "HlLRYIQBFCeY",
    "WKmiPKJtFFy1",
    "w0OY13QIFTWk",
    "sxF9DEiXFVw7",
    "cGEi4w5LFrn7",
    "_RVGGlJHF1oB",
    "xVt8sMz-GSdk",
    "K-53c482GgqS",
    "lPenBt2GGqxP",
    "mHZVFShZG0dj",
    "Oh57Sj7SHEAJ",
    "t3fv5pAeHOoi",
    "ia-PPSbKHass",
    "pdvSa9wxHqSf",
    "BD18hDcUH0ku",
    "LWxpK6d4H6WU",
    "-sb9ZnKCH_3b",
    "cxbN6ubdIlIE",
    "Bs0baqnBIpYa",
    "MVtx21pnI5M-",
    "ZvykEFnhJNcs",
    "V1dLp8INJB-r",
    "2G_J1zwXJqXH",
    "2xSBUpfSKK3v",
    "2xAq7iaBKzG6",
    "UpMPY6vSK4li",
    "m6WL0Xp8LH4r",
    "RWaomhZjLQ6m",
    "utUD8rtnLh3B",
    "97glyW_qL4fT",
    "mcaqkHi3MbXY",
    "37YXyhQgUG5w",
    "qPHRek0oMvb8",
    "LmLz8mdlMxwV",
    "sNisO5pFM8Kl"
   ],
   "provenance": [],
   "toc_visible": true
  },
  "kernelspec": {
   "display_name": "Python 3 (ipykernel)",
   "language": "python",
   "name": "python3"
  },
  "language_info": {
   "codemirror_mode": {
    "name": "ipython",
    "version": 3
   },
   "file_extension": ".py",
   "mimetype": "text/x-python",
   "name": "python",
   "nbconvert_exporter": "python",
   "pygments_lexer": "ipython3",
   "version": "3.12.4"
  }
 },
 "nbformat": 4,
 "nbformat_minor": 4
}
