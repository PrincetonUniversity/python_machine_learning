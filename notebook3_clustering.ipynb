{
 "cells": [
  {
   "cell_type": "markdown",
   "metadata": {
    "colab_type": "text",
    "id": "view-in-github"
   },
   "source": [
    "<a href=\"https://colab.research.google.com/github/PrincetonUniversity/python_machine_learning/blob/main/notebook3_clustering.ipynb\" target=\"_parent\"><img src=\"https://colab.research.google.com/assets/colab-badge.svg\" alt=\"Open In Colab\"/></a>"
   ]
  },
  {
   "cell_type": "code",
   "execution_count": null,
   "metadata": {
    "id": "8kQDn1UiBruU"
   },
   "outputs": [],
   "source": [
    "import numpy as np\n",
    "import matplotlib.pyplot as plt\n",
    "\n",
    "rng = np.random.RandomState(1)\n",
    "qualitiative_colors = ['#1b9e77','#d95f02','#7570b3','#e7298a']"
   ]
  },
  {
   "cell_type": "markdown",
   "metadata": {
    "id": "V1dLp8INJB-r"
   },
   "source": [
    "# Clustering"
   ]
  },
  {
   "cell_type": "markdown",
   "metadata": {
    "id": "2G_J1zwXJqXH"
   },
   "source": [
    "## Make Clustering Data Set"
   ]
  },
  {
   "cell_type": "code",
   "execution_count": null,
   "metadata": {
    "id": "alL4Z0owI--v"
   },
   "outputs": [],
   "source": [
    "from sklearn.datasets import make_circles, make_moons, make_blobs\n",
    "\n",
    "n_samples = 500\n",
    "noisy_circles = make_circles(n_samples=n_samples, factor=0.5, noise=0.05)\n",
    "noisy_moons = make_moons(n_samples=n_samples, noise=0.05)\n",
    "blobs = make_blobs(n_samples=n_samples, random_state=8)\n",
    "\n",
    "random_state = 170\n",
    "X, y = make_blobs(n_samples=n_samples, random_state=random_state)\n",
    "transformation = [[0.6, -0.6], [-0.4, 0.8]]\n",
    "X_aniso = np.dot(X, transformation)\n",
    "aniso = (X_aniso, y)\n",
    "\n",
    "varied = make_blobs(n_samples=n_samples, cluster_std=[1.0, 2.5, 0.5], random_state=random_state)\n",
    "\n",
    "no_structure = np.random.rand(n_samples, 2), np.zeros(n_samples)\n",
    "\n",
    "datasets = [(varied,       {\"n_clusters\": 3}),\n",
    "            (aniso,        {\"n_clusters\": 3}),\n",
    "            (blobs,        {\"n_clusters\": 3}),\n",
    "            (noisy_circles,{\"n_clusters\": 2}),\n",
    "            (noisy_moons,  {\"n_clusters\": 2}),\n",
    "            (no_structure, {\"n_clusters\": 3}),\n",
    "           ]"
   ]
  },
  {
   "cell_type": "code",
   "execution_count": null,
   "metadata": {
    "id": "1PsdvochJxEp"
   },
   "outputs": [],
   "source": [
    "fig, axs = plt.subplots(figsize=(24.,4.), nrows=1, ncols=6, facecolor='white', dpi=200)\n",
    "for i_dataset, (dataset, algo_params) in enumerate(datasets):\n",
    "    X, y = dataset\n",
    "    axs[i_dataset].scatter(X[:,0], X[:,1], c=qualitiative_colors[0])\n",
    "    axs[i_dataset].set_xlabel(r'$x_1$')\n",
    "axs[0].set_ylabel(r'$x_2$')"
   ]
  },
  {
   "cell_type": "markdown",
   "metadata": {
    "id": "2xSBUpfSKK3v"
   },
   "source": [
    "## K-Means clustering"
   ]
  },
  {
   "cell_type": "code",
   "execution_count": null,
   "metadata": {
    "id": "tZ1L2bgbKsED"
   },
   "outputs": [],
   "source": [
    "from sklearn.cluster import KMeans"
   ]
  },
  {
   "cell_type": "code",
   "execution_count": null,
   "metadata": {
    "id": "ItkJl4zEJ4PA"
   },
   "outputs": [],
   "source": [
    "fig, axs = plt.subplots(figsize=(24.,4.), nrows=1, ncols=6, facecolor='white', dpi=200)\n",
    "for i_dataset, (dataset, algo_params) in enumerate(datasets):\n",
    "    X, y = dataset\n",
    "    \n",
    "    # Create K-Means clustering object\n",
    "    k_means = KMeans(init=\"k-means++\", n_clusters=algo_params['n_clusters'], n_init=10)\n",
    "    \n",
    "    # Train the model using the training set\n",
    "    k_means.fit(X)\n",
    "    \n",
    "    # Return the cluster centroids\n",
    "    k_means_cluster_centers = k_means.cluster_centers_\n",
    "    \n",
    "    # Return the cluster assignments\n",
    "    y_prediction = k_means.labels_\n",
    "\n",
    "    axs[i_dataset].scatter(X[:,0], X[:,1], c=y_prediction, cmap=plt.cm.Accent)\n",
    "    axs[i_dataset].scatter(k_means_cluster_centers[:,0], k_means_cluster_centers[:,1], c='None', marker=\"D\", edgecolors='k', s=75)\n",
    "    axs[i_dataset].set_ylabel(r'$x_2$')\n",
    "    axs[i_dataset].set_xlabel(r'$x_1$')"
   ]
  },
  {
   "cell_type": "markdown",
   "metadata": {},
   "source": [
    "## Exercise"
   ]
  },
  {
   "cell_type": "markdown",
   "metadata": {},
   "source": [
    "Let's focus on just one of the datasets:"
   ]
  },
  {
   "cell_type": "code",
   "execution_count": null,
   "metadata": {},
   "outputs": [],
   "source": [
    "X, y = make_moons(n_samples=200, noise=0.05, random_state=0)\n",
    "plt.scatter(X[:, 0], X[:, 1])"
   ]
  },
  {
   "cell_type": "markdown",
   "metadata": {},
   "source": [
    "Search on the DBSCAN clustering algorithm and then use it on the data above as an improvement to K-Means. Does it distinguish the two clusters?"
   ]
  },
  {
   "cell_type": "code",
   "execution_count": null,
   "metadata": {},
   "outputs": [],
   "source": [
    "# using DBSCAN here"
   ]
  }
 ],
 "metadata": {
  "colab": {
   "authorship_tag": "ABX9TyMc5ZycJHBcOd97fmUkAcgl",
   "collapsed_sections": [
    "iooSaM6pB_-8",
    "MxrHPKbNCCye",
    "UNFC-ZWRDR9q",
    "rQgraN16Eia4",
    "KJu3LjnzEUUi",
    "fAMPvvSyEajY",
    "FPDkVyO9ENwx",
    "0DRNJS7REsWR",
    "-e6oiDXFE6T_",
    "HlLRYIQBFCeY",
    "WKmiPKJtFFy1",
    "w0OY13QIFTWk",
    "sxF9DEiXFVw7",
    "cGEi4w5LFrn7",
    "_RVGGlJHF1oB",
    "xVt8sMz-GSdk",
    "K-53c482GgqS",
    "lPenBt2GGqxP",
    "mHZVFShZG0dj",
    "Oh57Sj7SHEAJ",
    "t3fv5pAeHOoi",
    "ia-PPSbKHass",
    "pdvSa9wxHqSf",
    "BD18hDcUH0ku",
    "LWxpK6d4H6WU",
    "-sb9ZnKCH_3b",
    "cxbN6ubdIlIE",
    "Bs0baqnBIpYa",
    "MVtx21pnI5M-",
    "ZvykEFnhJNcs",
    "V1dLp8INJB-r",
    "2G_J1zwXJqXH",
    "2xSBUpfSKK3v",
    "2xAq7iaBKzG6",
    "UpMPY6vSK4li",
    "m6WL0Xp8LH4r",
    "RWaomhZjLQ6m",
    "utUD8rtnLh3B",
    "97glyW_qL4fT",
    "mcaqkHi3MbXY",
    "37YXyhQgUG5w",
    "qPHRek0oMvb8",
    "LmLz8mdlMxwV",
    "sNisO5pFM8Kl"
   ],
   "provenance": [],
   "toc_visible": true
  },
  "kernelspec": {
   "display_name": "Python 3 (ipykernel)",
   "language": "python",
   "name": "python3"
  },
  "language_info": {
   "codemirror_mode": {
    "name": "ipython",
    "version": 3
   },
   "file_extension": ".py",
   "mimetype": "text/x-python",
   "name": "python",
   "nbconvert_exporter": "python",
   "pygments_lexer": "ipython3",
   "version": "3.10.9"
  }
 },
 "nbformat": 4,
 "nbformat_minor": 1
}
