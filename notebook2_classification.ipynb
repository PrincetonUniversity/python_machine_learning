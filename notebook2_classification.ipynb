{
 "cells": [
  {
   "cell_type": "markdown",
   "metadata": {
    "colab_type": "text",
    "id": "view-in-github"
   },
   "source": [
    "<a href=\"https://colab.research.google.com/github/PrincetonUniversity/python_machine_learning/blob/main/notebook2_classification.ipynb\" target=\"_parent\"><img src=\"https://colab.research.google.com/assets/colab-badge.svg\" alt=\"Open In Colab\"/></a>"
   ]
  },
  {
   "cell_type": "code",
   "execution_count": null,
   "metadata": {
    "id": "8kQDn1UiBruU"
   },
   "outputs": [],
   "source": [
    "import numpy as np\n",
    "import matplotlib.pyplot as plt\n",
    "\n",
    "rng = np.random.RandomState(1)\n",
    "qualitiative_colors = ['#1b9e77','#d95f02','#7570b3','#e7298a']"
   ]
  },
  {
   "cell_type": "markdown",
   "metadata": {
    "id": "cGEi4w5LFrn7"
   },
   "source": [
    "# Classification"
   ]
  },
  {
   "cell_type": "markdown",
   "metadata": {
    "id": "_RVGGlJHF1oB"
   },
   "source": [
    "## Make Classification Data Set"
   ]
  },
  {
   "cell_type": "code",
   "execution_count": null,
   "metadata": {
    "id": "N8MR_t3FOfC0"
   },
   "outputs": [],
   "source": [
    "from sklearn.datasets import make_classification"
   ]
  },
  {
   "cell_type": "code",
   "execution_count": null,
   "metadata": {
    "id": "dmZAHEquFtui"
   },
   "outputs": [],
   "source": [
    "#X, y = make_classification(n_samples=200, n_features=2, n_redundant=0, n_informative=2, random_state=100, n_clusters_per_class=1, class_sep=0.75)\n",
    "X, y = make_classification(n_samples=200, n_features=2, n_redundant=0, n_informative=2, random_state=1, n_clusters_per_class=1, class_sep=1.5)\n",
    "\n",
    "\n",
    "n_sample = len(X)\n",
    "\n",
    "# randomize the data\n",
    "order = rng.permutation(n_sample)\n",
    "X = X[order]\n",
    "y = y[order].astype(float)\n",
    "\n",
    "# Split the data into training/testing sets\n",
    "X_train = X[: int(0.8 * n_sample)]\n",
    "y_train = y[: int(0.8 * n_sample)]\n",
    "X_test = X[int(0.8 * n_sample) :]\n",
    "y_test = y[int(0.8 * n_sample) :]"
   ]
  },
  {
   "cell_type": "code",
   "execution_count": null,
   "metadata": {
    "id": "MwDtrZApGO2D"
   },
   "outputs": [],
   "source": [
    "fig, axs = plt.subplots(figsize=(4.,4.), nrows=1, ncols=1, facecolor='white', dpi=200, sharex=True)\n",
    "axs.scatter(X_train[:, 0], X_train[:, 1], c=y_train, zorder=10, cmap=plt.cm.PRGn, edgecolor=\"k\", s=50)\n",
    "axs.set_ylabel(r'$x_2$')\n",
    "axs.set_xlabel(r'$x_1$')"
   ]
  },
  {
   "cell_type": "markdown",
   "metadata": {
    "id": "xVt8sMz-GSdk"
   },
   "source": [
    "## Support Vector Classification"
   ]
  },
  {
   "cell_type": "code",
   "execution_count": null,
   "metadata": {
    "id": "vH-vNEUXGYsx"
   },
   "outputs": [],
   "source": [
    "from sklearn.svm import SVC"
   ]
  },
  {
   "cell_type": "markdown",
   "metadata": {
    "id": "K-53c482GgqS"
   },
   "source": [
    "### Create Support Vector Classification object"
   ]
  },
  {
   "cell_type": "code",
   "execution_count": null,
   "metadata": {
    "id": "O0nL2ydbGhE9"
   },
   "outputs": [],
   "source": [
    "clf = SVC(kernel=\"linear\")"
   ]
  },
  {
   "cell_type": "markdown",
   "metadata": {
    "id": "lPenBt2GGqxP"
   },
   "source": [
    "### Train the model using the training set"
   ]
  },
  {
   "cell_type": "code",
   "execution_count": null,
   "metadata": {
    "id": "poZgA_eeGrBf"
   },
   "outputs": [],
   "source": [
    "clf.fit(X_train, y_train)"
   ]
  },
  {
   "cell_type": "markdown",
   "metadata": {
    "id": "mHZVFShZG0dj"
   },
   "source": [
    "### Output the best fit values"
   ]
  },
  {
   "cell_type": "code",
   "execution_count": null,
   "metadata": {
    "id": "ken5afwsG5YI"
   },
   "outputs": [],
   "source": [
    "print(\"Intercept: \\n\", clf.intercept_)\n",
    "print(\"Coefficients: \\n\", clf.coef_)"
   ]
  },
  {
   "cell_type": "markdown",
   "metadata": {
    "id": "Oh57Sj7SHEAJ"
   },
   "source": [
    "### Create a grid over the feature space"
   ]
  },
  {
   "cell_type": "code",
   "execution_count": null,
   "metadata": {
    "id": "ZVHNMh2HGLS1"
   },
   "outputs": [],
   "source": [
    "x_min = X[:, 0].min()-0.1\n",
    "x_max = X[:, 0].max()+0.1\n",
    "y_min = X[:, 1].min()-0.1\n",
    "y_max = X[:, 1].max()+0.1\n",
    "\n",
    "XX, YY = np.mgrid[x_min:x_max:200j, y_min:y_max:200j]"
   ]
  },
  {
   "cell_type": "markdown",
   "metadata": {
    "id": "t3fv5pAeHOoi"
   },
   "source": [
    "### Make predictions at each point in the feature "
   ]
  },
  {
   "cell_type": "code",
   "execution_count": null,
   "metadata": {
    "id": "tj068eRNHNva"
   },
   "outputs": [],
   "source": [
    "Z = clf.decision_function(np.c_[XX.ravel(), YY.ravel()])\n",
    "Z = Z.reshape(XX.shape)\n",
    "Z_lim = max([-1*Z.min(), Z.max()])"
   ]
  },
  {
   "cell_type": "markdown",
   "metadata": {
    "id": "ia-PPSbKHass"
   },
   "source": [
    "### Make predictions using the test set"
   ]
  },
  {
   "cell_type": "code",
   "execution_count": null,
   "metadata": {
    "id": "lZB-nC4MHVlh"
   },
   "outputs": [],
   "source": [
    "predicted_class = clf.predict(X_test)"
   ]
  },
  {
   "cell_type": "code",
   "execution_count": null,
   "metadata": {
    "id": "Rl1SnSNSHfEg"
   },
   "outputs": [],
   "source": [
    "fig, axs = plt.subplots(figsize=(4.,4.), nrows=1, ncols=1, facecolor='white', dpi=200, sharex=True)\n",
    "edgecolors = plt.cm.PRGn(predicted_class)\n",
    "axs.scatter(X_test[:, 0], X_test[:, 1], s=80, c=y_test, zorder=10, cmap=plt.cm.PRGn, alpha=0.5, edgecolor=edgecolors)\n",
    "axs.pcolormesh(XX, YY, Z, cmap=plt.cm.PRGn, shading='auto', edgecolors=None, alpha=0.5, snap=True, vmin=-1*Z_lim, vmax=Z_lim)\n",
    "axs.contour(XX, YY, Z, colors=[\"k\", \"k\", \"k\"], linestyles=[\"--\", \"-\", \"--\"], levels=[-0.5, 0, 0.5])\n",
    "axs.set_ylabel(r'$x_2$')\n",
    "axs.set_xlabel(r'$x_1$')"
   ]
  },
  {
   "cell_type": "markdown",
   "metadata": {
    "id": "pdvSa9wxHqSf"
   },
   "source": [
    "### Create Support Vector Classification object **with poly kernel**"
   ]
  },
  {
   "cell_type": "code",
   "execution_count": null,
   "metadata": {
    "id": "ceBekBSFHgpY"
   },
   "outputs": [],
   "source": [
    "clf = SVC(kernel=\"poly\")"
   ]
  },
  {
   "cell_type": "markdown",
   "metadata": {
    "id": "BD18hDcUH0ku"
   },
   "source": [
    "### Train the model using the training set"
   ]
  },
  {
   "cell_type": "code",
   "execution_count": null,
   "metadata": {
    "id": "jt9cQuneHwmJ"
   },
   "outputs": [],
   "source": [
    "clf.fit(X_train, y_train)"
   ]
  },
  {
   "cell_type": "markdown",
   "metadata": {
    "id": "LWxpK6d4H6WU"
   },
   "source": [
    "### Make predictions at each point in the feature "
   ]
  },
  {
   "cell_type": "code",
   "execution_count": null,
   "metadata": {
    "id": "1RWJwNJxH2JE"
   },
   "outputs": [],
   "source": [
    "Z = clf.decision_function(np.c_[XX.ravel(), YY.ravel()])\n",
    "Z = Z.reshape(XX.shape)\n",
    "Z_lim = max([-1*Z.min(), Z.max()])"
   ]
  },
  {
   "cell_type": "code",
   "execution_count": null,
   "metadata": {
    "id": "LJ0AtTNgH9EA"
   },
   "outputs": [],
   "source": [
    "fig, axs = plt.subplots(figsize=(4.,4.), nrows=1, ncols=1, facecolor='white', dpi=200, sharex=True)\n",
    "axs.scatter(X_train[:, 0], X_train[:, 1], s=40, c=y_train, zorder=10, cmap=plt.cm.PRGn, alpha=0.5, edgecolor='k')\n",
    "axs.pcolormesh(XX, YY, Z, cmap=plt.cm.PRGn, shading='auto', edgecolors=None, alpha=0.5, snap=True, vmin=-1*Z_lim, vmax=Z_lim)\n",
    "axs.contour(XX, YY, Z, colors=[\"k\", \"k\", \"k\"], linestyles=[\"--\", \"-\", \"--\"], levels=[-0.5, 0, 0.5])\n",
    "axs.set_ylabel(r'$x_2$')\n",
    "axs.set_xlabel(r'$x_1$')"
   ]
  },
  {
   "cell_type": "markdown",
   "metadata": {
    "id": "-sb9ZnKCH_3b"
   },
   "source": [
    "### Make predictions using the test set"
   ]
  },
  {
   "cell_type": "code",
   "execution_count": null,
   "metadata": {
    "id": "vJWqKSWjIABf"
   },
   "outputs": [],
   "source": [
    "predicted_class = clf.predict(X_test)"
   ]
  },
  {
   "cell_type": "code",
   "execution_count": null,
   "metadata": {
    "id": "VO2CAKFlIFgO"
   },
   "outputs": [],
   "source": [
    "fig, axs = plt.subplots(figsize=(4.,4.), nrows=1, ncols=1, facecolor='white', dpi=200, sharex=True)\n",
    "edgecolors = plt.cm.PRGn(predicted_class)\n",
    "axs.scatter(X_test[:, 0], X_test[:, 1], s=60, c=y_test, zorder=10, cmap=plt.cm.PRGn, alpha=0.5, edgecolor=edgecolors)\n",
    "axs.pcolormesh(XX, YY, Z, cmap=plt.cm.PRGn, shading='auto', edgecolors=None, alpha=0.5, snap=True, vmin=-1*Z_lim, vmax=Z_lim)\n",
    "axs.contour(XX, YY, Z, colors=[\"k\", \"k\", \"k\"], linestyles=[\"--\", \"-\", \"--\"], levels=[-0.5, 0, 0.5])\n",
    "axs.set_ylabel(r'$x_2$')\n",
    "axs.set_xlabel(r'$x_1$')"
   ]
  },
  {
   "cell_type": "markdown",
   "metadata": {
    "id": "cxbN6ubdIlIE"
   },
   "source": [
    "## k-Nearest Neighbors Classifier"
   ]
  },
  {
   "cell_type": "code",
   "execution_count": null,
   "metadata": {
    "id": "KBElmOqDIf2U"
   },
   "outputs": [],
   "source": [
    "from sklearn.neighbors import KNeighborsClassifier"
   ]
  },
  {
   "cell_type": "markdown",
   "metadata": {
    "id": "Bs0baqnBIpYa"
   },
   "source": [
    "### Create Support Vector Classification object"
   ]
  },
  {
   "cell_type": "code",
   "execution_count": null,
   "metadata": {
    "id": "_fGIm5v9Ij3z"
   },
   "outputs": [],
   "source": [
    "number_of_neighbors = 5\n",
    "clf =  KNeighborsClassifier(number_of_neighbors)"
   ]
  },
  {
   "cell_type": "markdown",
   "metadata": {
    "id": "MVtx21pnI5M-"
   },
   "source": [
    "### Train the model using the training set"
   ]
  },
  {
   "cell_type": "code",
   "execution_count": null,
   "metadata": {
    "id": "rVCRsPs5Iz1c"
   },
   "outputs": [],
   "source": [
    "clf.fit(X_train, y_train)"
   ]
  },
  {
   "cell_type": "code",
   "execution_count": null,
   "metadata": {
    "id": "I-0H6o6CJARo"
   },
   "outputs": [],
   "source": [
    "fig, axs = plt.subplots(figsize=(4.,4.), nrows=1, ncols=1, facecolor='white', dpi=200, sharex=True)\n",
    "axs.scatter(X_train[:, 0], X_train[:, 1], c=y_train, zorder=10, cmap=plt.cm.Dark2, edgecolor=\"k\", s=20)\n",
    "axs.set_ylabel(r'$x_2$')\n",
    "axs.set_xlabel(r'$x_1$')"
   ]
  },
  {
   "cell_type": "markdown",
   "metadata": {
    "id": "ZvykEFnhJNcs"
   },
   "source": [
    "### Make predictions using the test set"
   ]
  },
  {
   "cell_type": "code",
   "execution_count": null,
   "metadata": {
    "id": "EbFEAX0qJF0V"
   },
   "outputs": [],
   "source": [
    "fig, axs = plt.subplots(figsize=(4.,4.), nrows=1, ncols=1, facecolor='white', dpi=200, sharex=True)\n",
    "axs.scatter(X_train[:, 0], X_train[:, 1], c=y_train, zorder=10, cmap=plt.cm.Dark2, edgecolor=\"k\", s=20)\n",
    "for i in range(X_test.shape[0]):\n",
    "    test_coords = X_test[i,:]\n",
    "    neighbors = clf.kneighbors(test_coords[np.newaxis,:], 5,  return_distance=False)[0]\n",
    "    predicted_class = clf.predict(test_coords[np.newaxis,:])\n",
    "    axs.scatter(test_coords[0], test_coords[1], s=40, color=plt.cm.Dark2(predicted_class), zorder=10, edgecolor='None')\n",
    "    for j in range(len(neighbors)):\n",
    "        axs.plot([X_train[neighbors[j], 0], test_coords[0]], [X_train[neighbors[j], 1], test_coords[1]], '-', color=qualitiative_colors[1])\n",
    "axs.set_xlim(-1,4)\n",
    "axs.set_ylim(-2.1,2.15)\n",
    "axs.set_ylabel(r'$x_2$')\n",
    "axs.set_xlabel(r'$x_1$')"
   ]
  },
  {
   "cell_type": "markdown",
   "metadata": {},
   "source": [
    "## Exercise"
   ]
  },
  {
   "cell_type": "markdown",
   "metadata": {},
   "source": [
    "Take a look at the iris plants dataset (https://scikit-learn.org/stable/datasets/toy_dataset.html). Train a classifier using the k-nearest neighbors algorithm on the iris dataset."
   ]
  },
  {
   "cell_type": "code",
   "execution_count": null,
   "metadata": {},
   "outputs": [],
   "source": [
    "from sklearn import datasets\n",
    "import itertools\n",
    "\n",
    "# Load the dataset\n",
    "dataset = datasets.load_iris(as_frame=True)\n",
    "\n",
    "# Separate out the data\n",
    "X = dataset['data']\n",
    "y = dataset['target']\n",
    "\n",
    "# Translate the target\n",
    "y = y.apply(lambda x: dataset['target_names'][x])\n",
    "\n",
    "# Plot\n",
    "fig, ax = plt.subplots(3, 2, figsize=(8, 10))\n",
    "ax = ax.flatten()\n",
    "fig.suptitle('Iris plants dataset')\n",
    "for i, combination in enumerate(itertools.combinations(list(X), 2)):\n",
    "    col1, col2 = combination\n",
    "    for species in dataset['target_names']:\n",
    "        df = X[y == species]\n",
    "        ax[i].scatter(df[col1], df[col2], label=species)\n",
    "    ax[i].set_xlabel(col1)\n",
    "    ax[i].set_ylabel(col2)\n",
    "    ax[i].legend()\n",
    "plt.tight_layout()\n",
    "plt.show()"
   ]
  },
  {
   "cell_type": "code",
   "execution_count": null,
   "metadata": {},
   "outputs": [],
   "source": [
    "# train a kNN classifier on the iris dataset"
   ]
  }
 ],
 "metadata": {
  "colab": {
   "authorship_tag": "ABX9TyMc5ZycJHBcOd97fmUkAcgl",
   "collapsed_sections": [
    "iooSaM6pB_-8",
    "MxrHPKbNCCye",
    "UNFC-ZWRDR9q",
    "rQgraN16Eia4",
    "KJu3LjnzEUUi",
    "fAMPvvSyEajY",
    "FPDkVyO9ENwx",
    "0DRNJS7REsWR",
    "-e6oiDXFE6T_",
    "HlLRYIQBFCeY",
    "WKmiPKJtFFy1",
    "w0OY13QIFTWk",
    "sxF9DEiXFVw7",
    "cGEi4w5LFrn7",
    "_RVGGlJHF1oB",
    "xVt8sMz-GSdk",
    "K-53c482GgqS",
    "lPenBt2GGqxP",
    "mHZVFShZG0dj",
    "Oh57Sj7SHEAJ",
    "t3fv5pAeHOoi",
    "ia-PPSbKHass",
    "pdvSa9wxHqSf",
    "BD18hDcUH0ku",
    "LWxpK6d4H6WU",
    "-sb9ZnKCH_3b",
    "cxbN6ubdIlIE",
    "Bs0baqnBIpYa",
    "MVtx21pnI5M-",
    "ZvykEFnhJNcs",
    "V1dLp8INJB-r",
    "2G_J1zwXJqXH",
    "2xSBUpfSKK3v",
    "2xAq7iaBKzG6",
    "UpMPY6vSK4li",
    "m6WL0Xp8LH4r",
    "RWaomhZjLQ6m",
    "utUD8rtnLh3B",
    "97glyW_qL4fT",
    "mcaqkHi3MbXY",
    "37YXyhQgUG5w",
    "qPHRek0oMvb8",
    "LmLz8mdlMxwV",
    "sNisO5pFM8Kl"
   ],
   "provenance": [],
   "toc_visible": true
  },
  "kernelspec": {
   "display_name": "Python 3 (ipykernel)",
   "language": "python",
   "name": "python3"
  },
  "language_info": {
   "codemirror_mode": {
    "name": "ipython",
    "version": 3
   },
   "file_extension": ".py",
   "mimetype": "text/x-python",
   "name": "python",
   "nbconvert_exporter": "python",
   "pygments_lexer": "ipython3",
   "version": "3.10.9"
  }
 },
 "nbformat": 4,
 "nbformat_minor": 1
}
