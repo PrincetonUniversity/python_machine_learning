{
 "cells": [
  {
   "cell_type": "markdown",
   "metadata": {
    "colab_type": "text",
    "id": "view-in-github"
   },
   "source": [
    "<a href=\"https://colab.research.google.com/github/PrincetonUniversity/python_machine_learning/blob/main/notebook4_dimensionality_reduction.ipynb\" target=\"_parent\"><img src=\"https://colab.research.google.com/assets/colab-badge.svg\" alt=\"Open In Colab\"/></a>"
   ]
  },
  {
   "cell_type": "code",
   "execution_count": null,
   "metadata": {
    "id": "8kQDn1UiBruU"
   },
   "outputs": [],
   "source": [
    "import numpy as np\n",
    "import matplotlib.pyplot as plt\n",
    "\n",
    "rng = np.random.RandomState(1)\n",
    "qualitiative_colors = ['#1b9e77','#d95f02','#7570b3','#e7298a']"
   ]
  },
  {
   "cell_type": "markdown",
   "metadata": {
    "id": "2xAq7iaBKzG6"
   },
   "source": [
    "# Dimensionality Reduction"
   ]
  },
  {
   "cell_type": "markdown",
   "metadata": {
    "id": "UpMPY6vSK4li"
   },
   "source": [
    "## Make Dimensionality Reduction Data Set"
   ]
  },
  {
   "cell_type": "code",
   "execution_count": null,
   "metadata": {
    "id": "e3iMTGv_KqUI"
   },
   "outputs": [],
   "source": [
    "n_samples = 500\n",
    "cov = [[3, 3], [3, 4]]\n",
    "X = rng.multivariate_normal(mean=[0, 0], cov=cov, size=n_samples)"
   ]
  },
  {
   "cell_type": "code",
   "execution_count": null,
   "metadata": {
    "id": "18heQspzK82B"
   },
   "outputs": [],
   "source": [
    "fig, axs = plt.subplots(figsize=(4.,4.), nrows=1, ncols=1, facecolor='white', dpi=200)\n",
    "axs.scatter(X[:, 0], X[:, 1], s=10, color = qualitiative_colors[0], edgecolor='None')\n",
    "axs.set_ylabel(r'$x_2$')\n",
    "axs.set_xlabel(r'$x_1$')"
   ]
  },
  {
   "cell_type": "markdown",
   "metadata": {
    "id": "m6WL0Xp8LH4r"
   },
   "source": [
    "## Principal Component Analysis"
   ]
  },
  {
   "cell_type": "code",
   "execution_count": null,
   "metadata": {
    "id": "yUm9DqSOK_1s"
   },
   "outputs": [],
   "source": [
    "from sklearn.decomposition import PCA"
   ]
  },
  {
   "cell_type": "markdown",
   "metadata": {
    "id": "RWaomhZjLQ6m"
   },
   "source": [
    "### Create Principal Component Analysis object"
   ]
  },
  {
   "cell_type": "code",
   "execution_count": null,
   "metadata": {
    "id": "kwNp1B75LQbH"
   },
   "outputs": [],
   "source": [
    "pca = PCA(n_components=2)"
   ]
  },
  {
   "cell_type": "markdown",
   "metadata": {
    "id": "utUD8rtnLh3B"
   },
   "source": [
    "### Train the model using the training set"
   ]
  },
  {
   "cell_type": "code",
   "execution_count": null,
   "metadata": {
    "id": "kUEDLlrrLfKh"
   },
   "outputs": [],
   "source": [
    "pca.fit(X)"
   ]
  },
  {
   "cell_type": "markdown",
   "metadata": {
    "id": "97glyW_qL4fT"
   },
   "source": [
    "### Apply coordinate transform"
   ]
  },
  {
   "cell_type": "code",
   "execution_count": null,
   "metadata": {
    "id": "w44FwO8sL4z3"
   },
   "outputs": [],
   "source": [
    "reduced_data = pca.transform(X)"
   ]
  },
  {
   "cell_type": "code",
   "execution_count": null,
   "metadata": {
    "id": "biR5UFmOLpsb"
   },
   "outputs": [],
   "source": [
    "fig, axs = plt.subplots(figsize=(8.,4.), nrows=1, ncols=2, facecolor='white', dpi=200)\n",
    "axs[0].scatter(X[:, 0], X[:, 1], s=10, color = 'k', edgecolor='None')\n",
    "for i, (comp, var) in enumerate(zip(pca.components_, pca.explained_variance_)):\n",
    "    comp = comp * var  # scale component by its variance explanation power\n",
    "    axs[0].arrow(0, 0, comp[0], comp[1], width=0.1, color = qualitiative_colors[i])\n",
    "axs[0].set_ylabel(r'$x_2$')\n",
    "axs[0].set_xlabel(r'$x_1$')\n",
    "\n",
    "bins = np.linspace(np.min(reduced_data)-0.01, np.max(reduced_data)+0.01, int(n_samples/10))\n",
    "axs[1].hist(reduced_data[:,0], histtype='step', bins= bins, lw=3, color = qualitiative_colors[0], label = 'Data projected onto first component')\n",
    "axs[1].hist(reduced_data[:,1], histtype='step', bins= bins, lw=3, color = qualitiative_colors[1], label = 'Data projected onto second component')\n",
    "axs[1].legend(loc=0, fontsize=8)\n",
    "axs[1].set_xlabel(r'$\\hat{x}$')"
   ]
  },
  {
   "cell_type": "markdown",
   "metadata": {
    "id": "mcaqkHi3MbXY"
   },
   "source": [
    "## Load Digits Data Set"
   ]
  },
  {
   "cell_type": "code",
   "execution_count": null,
   "metadata": {
    "id": "If10So7VLuGB"
   },
   "outputs": [],
   "source": [
    "from sklearn.datasets import load_digits"
   ]
  },
  {
   "cell_type": "code",
   "execution_count": null,
   "metadata": {
    "id": "jvwPj36zMgSb"
   },
   "outputs": [],
   "source": [
    "data, labels = load_digits(return_X_y=True)\n",
    "(n_samples, n_features), n_digits = data.shape, np.unique(labels).size\n",
    "\n",
    "print(f\"number of digits: {n_digits}; number of samples: {n_samples}; number of features {n_features}\")"
   ]
  },
  {
   "cell_type": "code",
   "execution_count": null,
   "metadata": {
    "id": "VXkfb-W0Mkeq"
   },
   "outputs": [],
   "source": [
    "fig, axs = plt.subplots(figsize=(30.,3.), nrows=1, ncols=10, facecolor='white', dpi=200)\n",
    "for ax, image, label in zip(axs, data, labels):\n",
    "    ax.set_axis_off()\n",
    "    ax.imshow(image.reshape((8, 8)), cmap=plt.cm.gray_r, interpolation=\"nearest\")\n",
    "    ax.set_title(\"Training: %i\" % label)"
   ]
  },
  {
   "cell_type": "markdown",
   "metadata": {
    "id": "37YXyhQgUG5w"
   },
   "source": [
    "## Principal Component Analysis"
   ]
  },
  {
   "cell_type": "markdown",
   "metadata": {
    "id": "qPHRek0oMvb8"
   },
   "source": [
    "### Create Principal Component Analysis object"
   ]
  },
  {
   "cell_type": "code",
   "execution_count": null,
   "metadata": {
    "id": "bzAEgs_fMqkL"
   },
   "outputs": [],
   "source": [
    "pca = PCA(n_components=2)"
   ]
  },
  {
   "cell_type": "markdown",
   "metadata": {
    "id": "LmLz8mdlMxwV"
   },
   "source": [
    "### Train the model using the training set"
   ]
  },
  {
   "cell_type": "code",
   "execution_count": null,
   "metadata": {
    "id": "RqPBmtYgMxI0"
   },
   "outputs": [],
   "source": [
    "pca.fit(data)"
   ]
  },
  {
   "cell_type": "markdown",
   "metadata": {
    "id": "sNisO5pFM8Kl"
   },
   "source": [
    "### Reduce dimensions by applying coordinate transform"
   ]
  },
  {
   "cell_type": "code",
   "execution_count": null,
   "metadata": {
    "id": "55O7JzkNM6E1"
   },
   "outputs": [],
   "source": [
    "reduced_data = pca.transform(data)"
   ]
  },
  {
   "cell_type": "code",
   "execution_count": null,
   "metadata": {
    "id": "-U455FbnNEmm"
   },
   "outputs": [],
   "source": [
    "print(\"Data: \\n\", data.shape)\n",
    "print(\"Reduced Data: \\n\", reduced_data.shape)"
   ]
  },
  {
   "cell_type": "code",
   "execution_count": null,
   "metadata": {
    "id": "KCVEDipvNTT7"
   },
   "outputs": [],
   "source": [
    "fig, axs = plt.subplots(figsize=(4.,4.), nrows=1, ncols=1, facecolor='white', dpi=200)\n",
    "axs.scatter(reduced_data[:, 0], reduced_data[:, 1], s=5, c=qualitiative_colors[1])\n",
    "axs.set_ylabel(r'$\\hat{x}_2$')\n",
    "axs.set_xlabel(r'$\\hat{x}_1$')"
   ]
  },
  {
   "cell_type": "code",
   "execution_count": null,
   "metadata": {
    "id": "KGoJtJ3FNVLx"
   },
   "outputs": [],
   "source": [
    "colors = ['#a6cee3','#1f78b4','#b2df8a','#33a02c','#fb9a99','#e31a1c','#fdbf6f','#ff7f00','#cab2d6','#6a3d9a']\n",
    "markers = [\"$0$\",\"$1$\",\"$2$\",\"$3$\",\"$4$\",\"$5$\",\"$6$\",\"$7$\",\"$8$\",\"$9$\"]\n",
    "fig, axs = plt.subplots(figsize=(4.,4.), nrows=1, ncols=1, facecolor='white', dpi=400)\n",
    "for i in range(len(markers)):\n",
    "    to_plot = labels == i\n",
    "    axs.scatter(reduced_data[to_plot, 0], reduced_data[to_plot, 1], s=20, c=colors[i], marker=markers[i])\n",
    "axs.set_ylabel(r'$\\hat{x}_2$')\n",
    "axs.set_xlabel(r'$\\hat{x}_1$')"
   ]
  },
  {
   "cell_type": "markdown",
   "metadata": {
    "id": "adAAVAkSNW2S"
   },
   "source": [
    "## Exercise"
   ]
  },
  {
   "cell_type": "markdown",
   "metadata": {},
   "source": [
    "Try to apply the t-SNE (t-distributed Stochastic Neighbor Embedding) approach to the dataset above using 2 dimensions. You will need to search for the Scikit-Learn documentition. Does t-SNE appear to do a better job than PCA?"
   ]
  }
 ],
 "metadata": {
  "colab": {
   "authorship_tag": "ABX9TyMc5ZycJHBcOd97fmUkAcgl",
   "collapsed_sections": [
    "iooSaM6pB_-8",
    "MxrHPKbNCCye",
    "UNFC-ZWRDR9q",
    "rQgraN16Eia4",
    "KJu3LjnzEUUi",
    "fAMPvvSyEajY",
    "FPDkVyO9ENwx",
    "0DRNJS7REsWR",
    "-e6oiDXFE6T_",
    "HlLRYIQBFCeY",
    "WKmiPKJtFFy1",
    "w0OY13QIFTWk",
    "sxF9DEiXFVw7",
    "cGEi4w5LFrn7",
    "_RVGGlJHF1oB",
    "xVt8sMz-GSdk",
    "K-53c482GgqS",
    "lPenBt2GGqxP",
    "mHZVFShZG0dj",
    "Oh57Sj7SHEAJ",
    "t3fv5pAeHOoi",
    "ia-PPSbKHass",
    "pdvSa9wxHqSf",
    "BD18hDcUH0ku",
    "LWxpK6d4H6WU",
    "-sb9ZnKCH_3b",
    "cxbN6ubdIlIE",
    "Bs0baqnBIpYa",
    "MVtx21pnI5M-",
    "ZvykEFnhJNcs",
    "V1dLp8INJB-r",
    "2G_J1zwXJqXH",
    "2xSBUpfSKK3v",
    "2xAq7iaBKzG6",
    "UpMPY6vSK4li",
    "m6WL0Xp8LH4r",
    "RWaomhZjLQ6m",
    "utUD8rtnLh3B",
    "97glyW_qL4fT",
    "mcaqkHi3MbXY",
    "37YXyhQgUG5w",
    "qPHRek0oMvb8",
    "LmLz8mdlMxwV",
    "sNisO5pFM8Kl"
   ],
   "provenance": [],
   "toc_visible": true
  },
  "kernelspec": {
   "display_name": "Python 3 (ipykernel)",
   "language": "python",
   "name": "python3"
  },
  "language_info": {
   "codemirror_mode": {
    "name": "ipython",
    "version": 3
   },
   "file_extension": ".py",
   "mimetype": "text/x-python",
   "name": "python",
   "nbconvert_exporter": "python",
   "pygments_lexer": "ipython3",
   "version": "3.10.9"
  }
 },
 "nbformat": 4,
 "nbformat_minor": 1
}
